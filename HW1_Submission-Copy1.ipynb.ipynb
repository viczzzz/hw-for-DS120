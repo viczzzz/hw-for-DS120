{
 "cells": [
  {
   "cell_type": "code",
   "execution_count": null,
   "metadata": {},
   "outputs": [],
   "source": [
    "# There is no need to run this chunk of code.\n",
    "import os\n",
    "wd=''\n",
    "os.chdir(wd)\n",
    "%run HW1_solutions.ipynb"
   ]
  },
  {
   "cell_type": "markdown",
   "metadata": {},
   "source": [
    "## Homework 1 Submission\n",
    "Write your name and surname below:\n",
    "<br>\n",
    "Name:\n",
    "<br>\n",
    "Surname:"
   ]
  },
  {
   "cell_type": "markdown",
   "metadata": {},
   "source": [
    "***Problem 1:*** <br> Write a program that: <br>\n",
    "a. compares the lengths of two texts given below (i.e. the number of characters in each text) <br>\n",
    "b. compares the numbers of words in each text<br>\n",
    "c. calculates the frequency of each word (the number of times the word appears in the text) in each text and puts them in a dictionary <br>\n",
    "d. prints the number of unique words used in each text as a dictionary.\n",
    "<br>\n",
    "Example 1: {\"The legth of text a\": 487,\"The legth of text b\": 562}<br>\n",
    "Example 2: Word frequency- {\"Jovi\":2,\"in\": 4}\n"
   ]
  },
  {
   "cell_type": "code",
   "execution_count": 6,
   "metadata": {},
   "outputs": [],
   "source": [
    "a = 'Bon Jovi is an American rock band formed in 1983 in Sayreville, New Jersey. \\\n",
    "It consists of singer Jon Bon Jovi, keyboardist David Bryan, drummer Tico Torres, \\\n",
    "guitarist PhilX, and bassist Hugh McDonald. Previous bassist Alec John Such was \\\n",
    "dismissed in 1994, and longtime guitarist and co-songwriter Richie Sambora left in 2013.'\n",
    "\n",
    "b = \"Ronald Wilson Reagan (/ˈreɪɡən/; February 6, 1911 – June 5, 2004) \\\n",
    "was an American politician who served as the 40th president of the United \\\n",
    "States from 1981 to 1989. Prior to his presidency, he was a Hollywood actor \\\n",
    "and union leader before serving as the 33rd governor of California from 1967 to 1975.\""
   ]
  },
  {
   "cell_type": "code",
   "execution_count": 7,
   "metadata": {},
   "outputs": [
    {
     "data": {
      "text/plain": [
       "328"
      ]
     },
     "execution_count": 7,
     "metadata": {},
     "output_type": "execute_result"
    }
   ],
   "source": [
    "a = 'Bon Jovi is an American rock band formed in 1983 in Sayreville, New Jersey. \\\n",
    "It consists of singer Jon Bon Jovi , keyboardist David Bryan, drummer Tico Torres, \\\n",
    "guitarist PhilX, and bassist Hugh McDonald. Previous bassist Alec John Such was \\\n",
    "dismissed in 1994, and longtime guitarist and co-songwriter Richie Sambora left in 2013 .'\n",
    "\n",
    "b = \"Ronald Wilson Reagan (/ˈreɪɡən/; February 6, 1911 – June 5, 2004) \\\n",
    "was an American politician who served as the 40th president of the United \\\n",
    "States from 1981 to 1989. Prior to his presidency, he was a Hollywood actor \\\n",
    "and union leader before serving as the 33rd governor of California from 1967 to 1975.\"\n",
    "#a\n",
    "len(list(a))"
   ]
  },
  {
   "cell_type": "code",
   "execution_count": 8,
   "metadata": {},
   "outputs": [
    {
     "data": {
      "text/plain": [
       "301"
      ]
     },
     "execution_count": 8,
     "metadata": {},
     "output_type": "execute_result"
    }
   ],
   "source": [
    "len(list(b))"
   ]
  },
  {
   "cell_type": "code",
   "execution_count": 9,
   "metadata": {},
   "outputs": [
    {
     "name": "stdout",
     "output_type": "stream",
     "text": [
      "text a is longer\n"
     ]
    }
   ],
   "source": [
    "#b\n",
    "if len(a.split())>len(b.split()):\n",
    "    print('text a is longer')\n",
    "elif len(a.split())==len(b.split()):\n",
    "    print('The length of two texts is equal')\n",
    "else :\n",
    "    print('text b is longer')"
   ]
  },
  {
   "cell_type": "code",
   "execution_count": 10,
   "metadata": {},
   "outputs": [
    {
     "name": "stdout",
     "output_type": "stream",
     "text": [
      "Bon Jovi is an American rock band formed in 1983 in Sayreville New Jersey It consists of singer Jon Bon Jovi  keyboardist David Bryan drummer Tico Torres guitarist PhilX and bassist Hugh McDonald Previous bassist Alec John Such was dismissed in 1994 and longtime guitarist and co-songwriter Richie Sambora left in 2013 \n"
     ]
    }
   ],
   "source": [
    "c=a.replace('.','')\n",
    "c=c.replace(',','')\n",
    "print(c)\n",
    "#implemetation of method which deletes all the punctiation\n",
    "\n"
   ]
  },
  {
   "cell_type": "code",
   "execution_count": 11,
   "metadata": {},
   "outputs": [
    {
     "name": "stdout",
     "output_type": "stream",
     "text": [
      "2\n"
     ]
    }
   ],
   "source": [
    "#c\n",
    "def count_word(input_str,input_word):\n",
    "    counter=0\n",
    "    for i in range(0,len(input_str)):\n",
    "        if input_str[i]==input_word:\n",
    "            counter+=1\n",
    "    return counter\n",
    "print(count_word(c.split(),'Jovi'))\n",
    "#Mr.Abgaryan i believe that this function works but I personally encounted a problem.\n",
    "#when there is a comma or other punctuation signs the function does not recognize the word.\n",
    "#I feel that it is one of the python's flaws.\n",
    "#I was thinking about implemeting the method that removes all the punctuation but do know if it is what you required. "
   ]
  },
  {
   "cell_type": "code",
   "execution_count": 12,
   "metadata": {},
   "outputs": [
    {
     "name": "stdout",
     "output_type": "stream",
     "text": [
      "Ronald Wilson Reagan (/ˈreɪɡən/; February 6 1911 – June 5 2004) was an American politician who served as the 40th president of the United States from 1981 to 1989 Prior to his presidency he was a Hollywood actor and union leader before serving as the 33rd governor of California from 1967 to 1975\n"
     ]
    }
   ],
   "source": [
    "d=b.replace('.','')\n",
    "d=d.replace(',','')\n",
    "print(d)"
   ]
  },
  {
   "cell_type": "code",
   "execution_count": 13,
   "metadata": {},
   "outputs": [
    {
     "name": "stdout",
     "output_type": "stream",
     "text": [
      "1\n"
     ]
    }
   ],
   "source": [
    "def count_word(input_str,input_word):\n",
    "    counter=0\n",
    "    for i in range(0,len(input_str)):\n",
    "        if input_str[i]==input_word:\n",
    "            counter+=1\n",
    "    return counter\n",
    "print(count_word(d.split(),'Reagan'))"
   ]
  },
  {
   "cell_type": "code",
   "execution_count": 14,
   "metadata": {},
   "outputs": [
    {
     "data": {
      "text/plain": [
       "Counter({'Sayreville,': 1,\n",
       "         'It': 1,\n",
       "         'New': 1,\n",
       "         'guitarist': 1,\n",
       "         'Hugh': 1,\n",
       "         'David': 1,\n",
       "         'Sambora': 1,\n",
       "         'co-songwriter': 1,\n",
       "         '1994,': 1,\n",
       "         'an': 1,\n",
       "         'in': 1,\n",
       "         'is': 1,\n",
       "         'Such': 1,\n",
       "         'Jovi': 1,\n",
       "         'dismissed': 1,\n",
       "         'Jon': 1,\n",
       "         'bassist': 1,\n",
       "         'formed': 1,\n",
       "         'American': 1,\n",
       "         'drummer': 1,\n",
       "         ',': 1,\n",
       "         'Previous': 1,\n",
       "         'Torres,': 1,\n",
       "         'Alec': 1,\n",
       "         'Tico': 1,\n",
       "         'PhilX,': 1,\n",
       "         'rock': 1,\n",
       "         '2013': 1,\n",
       "         'Jersey.': 1,\n",
       "         'of': 1,\n",
       "         'band': 1,\n",
       "         'consists': 1,\n",
       "         'John': 1,\n",
       "         'singer': 1,\n",
       "         'Bon': 1,\n",
       "         'McDonald.': 1,\n",
       "         'was': 1,\n",
       "         'Richie': 1,\n",
       "         'left': 1,\n",
       "         'and': 1,\n",
       "         'longtime': 1,\n",
       "         '1983': 1,\n",
       "         'keyboardist': 1,\n",
       "         '.': 1,\n",
       "         'Bryan,': 1})"
      ]
     },
     "execution_count": 14,
     "metadata": {},
     "output_type": "execute_result"
    }
   ],
   "source": [
    "#d\n",
    "a='Bon Jovi is an American rock band formed in 1983 in Sayreville, New Jersey. \\\n",
    "It consists of singer Jon Bon Jovi , keyboardist David Bryan, drummer Tico Torres, \\\n",
    "guitarist PhilX, and bassist Hugh McDonald. Previous bassist Alec John Such was \\\n",
    "dismissed in 1994, and longtime guitarist and co-songwriter Richie Sambora left in 2013 .'\n",
    "\n",
    "e=a.split()\n",
    "f=set(e)\n",
    "import collections\n",
    "collections.Counter(f)\n",
    "#set contains the words that are no repeated therefore the number of their occurences is equal to 1"
   ]
  },
  {
   "cell_type": "code",
   "execution_count": 15,
   "metadata": {},
   "outputs": [
    {
     "data": {
      "text/plain": [
       "Counter({'who': 1,\n",
       "         'as': 1,\n",
       "         'United': 1,\n",
       "         'an': 1,\n",
       "         'presidency,': 1,\n",
       "         'California': 1,\n",
       "         'to': 1,\n",
       "         'actor': 1,\n",
       "         'his': 1,\n",
       "         'Ronald': 1,\n",
       "         'June': 1,\n",
       "         'American': 1,\n",
       "         'February': 1,\n",
       "         'serving': 1,\n",
       "         'Prior': 1,\n",
       "         '6,': 1,\n",
       "         'politician': 1,\n",
       "         'the': 1,\n",
       "         'from': 1,\n",
       "         'president': 1,\n",
       "         '1981': 1,\n",
       "         'Wilson': 1,\n",
       "         '1989.': 1,\n",
       "         '1967': 1,\n",
       "         '1911': 1,\n",
       "         'Reagan': 1,\n",
       "         '–': 1,\n",
       "         'he': 1,\n",
       "         'of': 1,\n",
       "         'union': 1,\n",
       "         'before': 1,\n",
       "         'was': 1,\n",
       "         'leader': 1,\n",
       "         '(/ˈreɪɡən/;': 1,\n",
       "         '2004)': 1,\n",
       "         '5,': 1,\n",
       "         'States': 1,\n",
       "         'and': 1,\n",
       "         '1975.': 1,\n",
       "         'Hollywood': 1,\n",
       "         'a': 1,\n",
       "         '33rd': 1,\n",
       "         'governor': 1,\n",
       "         'served': 1,\n",
       "         '40th': 1})"
      ]
     },
     "execution_count": 15,
     "metadata": {},
     "output_type": "execute_result"
    }
   ],
   "source": [
    "b=\"Ronald Wilson Reagan (/ˈreɪɡən/; February 6, 1911 – June 5, 2004) \\\n",
    "was an American politician who served as the 40th president of the United \\\n",
    "States from 1981 to 1989. Prior to his presidency, he was a Hollywood actor \\\n",
    "and union leader before serving as the 33rd governor of California from 1967 to 1975.\"\n",
    "g=b.split()\n",
    "h=set(g)\n",
    "collections.Counter(h)\n"
   ]
  },
  {
   "cell_type": "code",
   "execution_count": 16,
   "metadata": {},
   "outputs": [
    {
     "data": {
      "text/plain": [
       "Counter({'Bon': 2,\n",
       "         'Jovi': 1,\n",
       "         'is': 1,\n",
       "         'an': 1,\n",
       "         'American': 1,\n",
       "         'rock': 1,\n",
       "         'band': 1,\n",
       "         'formed': 1,\n",
       "         'in': 4,\n",
       "         '1983': 1,\n",
       "         'Sayreville,': 1,\n",
       "         'New': 1,\n",
       "         'Jersey.': 1,\n",
       "         'It': 1,\n",
       "         'consists': 1,\n",
       "         'of': 1,\n",
       "         'singer': 1,\n",
       "         'Jon': 1,\n",
       "         'Jovi,': 1,\n",
       "         'keyboardist': 1,\n",
       "         'David': 1,\n",
       "         'Bryan,': 1,\n",
       "         'drummer': 1,\n",
       "         'Tico': 1,\n",
       "         'Torres,': 1,\n",
       "         'guitarist': 2,\n",
       "         'PhilX,': 1,\n",
       "         'and': 3,\n",
       "         'bassist': 2,\n",
       "         'Hugh': 1,\n",
       "         'McDonald.': 1,\n",
       "         'Previous': 1,\n",
       "         'Alec': 1,\n",
       "         'John': 1,\n",
       "         'Such': 1,\n",
       "         'was': 1,\n",
       "         'dismissed': 1,\n",
       "         '1994,': 1,\n",
       "         'longtime': 1,\n",
       "         'co-songwriter': 1,\n",
       "         'Richie': 1,\n",
       "         'Sambora': 1,\n",
       "         'left': 1,\n",
       "         '2013.': 1})"
      ]
     },
     "execution_count": 16,
     "metadata": {},
     "output_type": "execute_result"
    }
   ],
   "source": [
    "#c\n",
    "a = 'Bon Jovi is an American rock band formed in 1983 in Sayreville, New Jersey. \\\n",
    "It consists of singer Jon Bon Jovi, keyboardist David Bryan, drummer Tico Torres, \\\n",
    "guitarist PhilX, and bassist Hugh McDonald. Previous bassist Alec John Such was \\\n",
    "dismissed in 1994, and longtime guitarist and co-songwriter Richie Sambora left in 2013.'\n",
    "\n",
    "b = \"Ronald Wilson Reagan (/ˈreɪɡən/; February 6, 1911 – June 5, 2004) \\\n",
    "was an American politician who served as the 40th president of the United \\\n",
    "States from 1981 to 1989. Prior to his presidency, he was a Hollywood actor \\\n",
    "and union leader before serving as the 33rd governor of California from 1967 to 1975.\"\n",
    "\n",
    "c1=a.split()\n",
    "c2=b.split()\n",
    "\n",
    "import collections\n",
    "collections.Counter(c1)"
   ]
  },
  {
   "cell_type": "code",
   "execution_count": 17,
   "metadata": {},
   "outputs": [
    {
     "data": {
      "text/plain": [
       "Counter({'Ronald': 1,\n",
       "         'Wilson': 1,\n",
       "         'Reagan': 1,\n",
       "         '(/ˈreɪɡən/;': 1,\n",
       "         'February': 1,\n",
       "         '6,': 1,\n",
       "         '1911': 1,\n",
       "         '–': 1,\n",
       "         'June': 1,\n",
       "         '5,': 1,\n",
       "         '2004)': 1,\n",
       "         'was': 2,\n",
       "         'an': 1,\n",
       "         'American': 1,\n",
       "         'politician': 1,\n",
       "         'who': 1,\n",
       "         'served': 1,\n",
       "         'as': 2,\n",
       "         'the': 3,\n",
       "         '40th': 1,\n",
       "         'president': 1,\n",
       "         'of': 2,\n",
       "         'United': 1,\n",
       "         'States': 1,\n",
       "         'from': 2,\n",
       "         '1981': 1,\n",
       "         'to': 3,\n",
       "         '1989.': 1,\n",
       "         'Prior': 1,\n",
       "         'his': 1,\n",
       "         'presidency,': 1,\n",
       "         'he': 1,\n",
       "         'a': 1,\n",
       "         'Hollywood': 1,\n",
       "         'actor': 1,\n",
       "         'and': 1,\n",
       "         'union': 1,\n",
       "         'leader': 1,\n",
       "         'before': 1,\n",
       "         'serving': 1,\n",
       "         '33rd': 1,\n",
       "         'governor': 1,\n",
       "         'California': 1,\n",
       "         '1967': 1,\n",
       "         '1975.': 1})"
      ]
     },
     "execution_count": 17,
     "metadata": {},
     "output_type": "execute_result"
    }
   ],
   "source": [
    "collections.Counter(c2)"
   ]
  },
  {
   "cell_type": "code",
   "execution_count": null,
   "metadata": {},
   "outputs": [],
   "source": [
    "###_____________Start code here_________________###\n",
    "\n",
    "\n",
    "###_____________End code here_________________###"
   ]
  },
  {
   "cell_type": "code",
   "execution_count": null,
   "metadata": {},
   "outputs": [],
   "source": [
    "# There is no need to run this chunk of code.\n",
    "ex1(a,b)"
   ]
  },
  {
   "cell_type": "markdown",
   "metadata": {},
   "source": [
    "***Problem 13:*** Write a program to calculate the sum of the digits of a number  until it is a single-digit number (Example: **199** -> 1+9+9=**19** -> 1+9=**10** -> 1+0=**1**). Let the program print the result of each step (the bolded numbers in the example). Run the program for 289, 1011, 3333."
   ]
  },
  {
   "cell_type": "code",
   "execution_count": 18,
   "metadata": {},
   "outputs": [
    {
     "name": "stdout",
     "output_type": "stream",
     "text": [
      "19\n",
      "10\n",
      "1\n"
     ]
    }
   ],
   "source": [
    "def digSum( n): \n",
    "    sum = 0\n",
    "    while(n > 0 or sum > 9): \n",
    "        if(n == 0): \n",
    "            n = sum\n",
    "            print(sum)\n",
    "            sum = 0\n",
    "        sum += int(n % 10)\n",
    "        n /= 10\n",
    "    return sum\n",
    "  \n",
    "print(digSum(289))"
   ]
  },
  {
   "cell_type": "code",
   "execution_count": null,
   "metadata": {},
   "outputs": [],
   "source": [
    "# There is no need to run this chunk of code.\n",
    "ex13(289)\n",
    "ex13(1011)\n",
    "ex13(3333)"
   ]
  },
  {
   "cell_type": "markdown",
   "metadata": {},
   "source": [
    "***Problem 14:*** Write a program to print a chess board where **\"X\"s** are black squares and **\"O\"s** are white ones. Hint: you can use \"end\" parameter of print() function to print on the same line and separate the outputs of different prints by space or any character you want. More on this topic here: https://www.geeksforgeeks.org/gfact-50-python-end-parameter-in-print/.\n",
    "<br>The output should be like this:\n",
    "<img src=\"chess.jpg\" style=\"width: 200px;\">"
   ]
  },
  {
   "cell_type": "code",
   "execution_count": 102,
   "metadata": {},
   "outputs": [
    {
     "name": "stdout",
     "output_type": "stream",
     "text": [
      "O  X  O  X  O  X  O  X  \n",
      "\n",
      "X  O  X  O  X  O  X  O  \n",
      "\n",
      "O  X  O  X  O  X  O  X  \n",
      "\n",
      "X  O  X  O  X  O  X  O  \n",
      "\n",
      "O  X  O  X  O  X  O  X  \n",
      "\n",
      "X  O  X  O  X  O  X  O  \n",
      "\n",
      "O  X  O  X  O  X  O  X  \n",
      "\n",
      "X  O  X  O  X  O  X  O  \n",
      "\n"
     ]
    }
   ],
   "source": [
    "###_____________Start code here_________________###\n",
    "for j in range (8):\n",
    "    for i in range (4):\n",
    "        if j%2==0:\n",
    "            print('O  ' , end='X  ')\n",
    "        else:\n",
    "            print('X  ', end='O  ')\n",
    "    print('\\n')\n",
    "###_____________End code here_________________###\n"
   ]
  },
  {
   "cell_type": "code",
   "execution_count": null,
   "metadata": {},
   "outputs": [],
   "source": [
    "# There is no need to run this chunk of code.\n",
    "ex14()"
   ]
  },
  {
   "cell_type": "markdown",
   "metadata": {},
   "source": [
    "***Problem 15:*** Write a program to reverse the digits of a given integer without using any built-in function or slicing. (**Example**: 12345 to 54321). Run the program for 4815162342."
   ]
  },
  {
   "cell_type": "code",
   "execution_count": 19,
   "metadata": {},
   "outputs": [
    {
     "name": "stdout",
     "output_type": "stream",
     "text": [
      "2432615184\n"
     ]
    }
   ],
   "source": [
    "###_____________Start code here_________________###\n",
    "\n",
    "\n",
    "###_____________End code here_________________###\n",
    "def reverse_num(num):\n",
    "  r_num = 0\n",
    "  while(num > 0) :\n",
    "    digit=int(num%10)\n",
    "    r_num=r_num*10+digit\n",
    "    num=int(num/10)\n",
    "  return r_num\n",
    "print(reverse_num(4815162342))"
   ]
  },
  {
   "cell_type": "code",
   "execution_count": null,
   "metadata": {},
   "outputs": [],
   "source": [
    "# There is no need to run this chunk of code.\n",
    "ex15(4815162342)"
   ]
  },
  {
   "cell_type": "markdown",
   "metadata": {},
   "source": [
    "***Problem 17:*** Write a function that will find all numbers between A and B (inclusive) such that each digit of the number is even. For example foo(20,26) returns [22,24,26]. Call the function for A=40 and B=140. 0 is even number."
   ]
  },
  {
   "cell_type": "code",
   "execution_count": 162,
   "metadata": {},
   "outputs": [
    {
     "ename": "IndentationError",
     "evalue": "expected an indented block (<ipython-input-162-97fa2077ad22>, line 9)",
     "output_type": "error",
     "traceback": [
      "\u001b[0;36m  File \u001b[0;32m\"<ipython-input-162-97fa2077ad22>\"\u001b[0;36m, line \u001b[0;32m9\u001b[0m\n\u001b[0;31m    print (e)\u001b[0m\n\u001b[0m        ^\u001b[0m\n\u001b[0;31mIndentationError\u001b[0m\u001b[0;31m:\u001b[0m expected an indented block\n"
     ]
    }
   ],
   "source": [
    "###_____________Start code here_________________###\n",
    "\n",
    "\n",
    "\n",
    "###_____________End code here_________________###\n"
   ]
  },
  {
   "cell_type": "code",
   "execution_count": null,
   "metadata": {},
   "outputs": [],
   "source": [
    "# There is no need to run this chunk of code.\n",
    "ex17(40,140)"
   ]
  },
  {
   "cell_type": "markdown",
   "metadata": {},
   "source": [
    "***Problem 18:*** On basic cell phones numeric keypad is used to write a message. Write a function to output the numerical sequence of the keys to be pressed for any message. For instance, numerical sequence for typing \"P\" will be 7 and for \"I\" 444. Another example, the sequence for \"hello\" will be 4433555555666. Make the input text uppercase before converting to numerical sequence. Call the function for the following input **\"HI DEAR! I WILL BE LATE TODAY.\"**\n",
    "\n",
    "| Key | Symbols |\n",
    "|----|----|\n",
    "|1|. , ? ! :|\n",
    "|2|A B C|\n",
    "|3|D E F|\n",
    "|4|G H I|\n",
    "|5|J K L|\n",
    "|6|M N O|\n",
    "|7|P Q R S|\n",
    "|8|T U V|\n",
    "|9|W X Y Z|\n",
    "|0| space |\n"
   ]
  },
  {
   "cell_type": "code",
   "execution_count": 168,
   "metadata": {},
   "outputs": [
    {
     "ename": "IndentationError",
     "evalue": "expected an indented block (<ipython-input-168-e2144eaa4996>, line 8)",
     "output_type": "error",
     "traceback": [
      "\u001b[0;36m  File \u001b[0;32m\"<ipython-input-168-e2144eaa4996>\"\u001b[0;36m, line \u001b[0;32m8\u001b[0m\n\u001b[0;31m    my_dict={1:['.',',','?','!'],2:['A','B','C'],3:['D','E','F'],4:['G','H','I'],5:['J','K','L'],6:['M','N','O'],7:['P','Q','R','S'],8:['T','U','V'],9:['X','Y','Z'],0:['']}\u001b[0m\n\u001b[0m          ^\u001b[0m\n\u001b[0;31mIndentationError\u001b[0m\u001b[0;31m:\u001b[0m expected an indented block\n"
     ]
    }
   ],
   "source": [
    "###_____________Start code here_________________###\n",
    "\n",
    "\n",
    "###_____________End code here_________________###\n",
    "\n",
    "\n",
    "def message(input_str): \n",
    "my_dict={1:['.',',','?','!'],2:['A','B','C'],3:['D','E','F'],4:['G','H','I'],5:['J','K','L'],6:['M','N','O'],7:['P','Q','R','S'],8:['T','U','V'],9:['X','Y','Z'],0:['']}\n",
    "ls=[]\n",
    "for i in list(a):\n",
    "    for j in my_dict.values():\n",
    "            for k in dict(j):\n",
    "                if i==k:\n",
    "                    for l in dict.keys():\n",
    "                        if k in my_dict[l]:\n",
    "                            index=j.index(k)+1\n",
    "                            num=l*index\n",
    "                            ls.append(num)\n",
    "    code=','.join(seq)\n",
    "    print(code)\n",
    "    \n",
    "    message('HI DEAR! I WILL BE LATE TODAY.')\n",
    "        "
   ]
  },
  {
   "cell_type": "code",
   "execution_count": null,
   "metadata": {},
   "outputs": [],
   "source": [
    "# There is no need to run this chunk of code.\n",
    "print(ex18(\"HI DEAR! I WILL BE LATE TODAY.\"))"
   ]
  },
  {
   "cell_type": "markdown",
   "metadata": {},
   "source": [
    "***Problem 20:*** Write a program that accepts a sentence and prints the number of letters and digits in it. Run the program for \"1, 2, 3, 4... Let's run the code!\" "
   ]
  },
  {
   "cell_type": "code",
   "execution_count": 131,
   "metadata": {},
   "outputs": [
    {
     "name": "stdout",
     "output_type": "stream",
     "text": [
      "Letters: 14\n",
      "Digits: 4\n"
     ]
    }
   ],
   "source": [
    "###_____________Start code here_________________###\n",
    "\n",
    "input_string = \"1, 2, 3, 4... Let's run the code!\"\n",
    "d=l=0\n",
    "for i in input_string:\n",
    "    if i.isdigit():\n",
    "        d=d+1\n",
    "    elif i.isalpha():\n",
    "        l=l+1\n",
    "    else:\n",
    "        pass\n",
    "print(\"Letters:\", l)\n",
    "print(\"Digits:\", d)\n",
    "\n",
    "###_____________End code here_________________###"
   ]
  },
  {
   "cell_type": "code",
   "execution_count": null,
   "metadata": {},
   "outputs": [],
   "source": [
    "# There is no need to run this chunk of code.\n",
    "ex20(\"1, 2, 3, 4... Let's run the code!\")"
   ]
  },
  {
   "cell_type": "markdown",
   "metadata": {},
   "source": [
    "***Problem 22:*** Two people throw two six-sided fair dices each. The one with greater sum wins, and if the sum is equal, they draw. Write a program that simulates the game and plays 100 time. Print the number of wins of Player 1, Player 2 and draws."
   ]
  },
  {
   "cell_type": "code",
   "execution_count": 18,
   "metadata": {},
   "outputs": [],
   "source": [
    "###_____________Start code here_________________###\n",
    "\n",
    "ran1=[]\n",
    "ran2=[]\n",
    "for i in range(0,2):\n",
    "    for x in range(100):\n",
    "        ran1.append(random.randint(1,6))\n",
    "        ran2.append(random.randint(1,6))\n",
    "print('1-st player.First dice: ',ran1)\n",
    "print('Second dice' ,ran2)\n",
    "\n",
    "\n",
    "def myfunc(x,y):\n",
    "    return x + y\n",
    "for i in range(1):\n",
    "    d=map(myfunc,ran1,ran2)\n",
    "    e=list(d)\n",
    "    print(\"1-st player's sum: \" , e)\n",
    "    \n",
    "    \n",
    "ran3=[]\n",
    "ran4=[]\n",
    "for i in range(0,2):\n",
    "    for x in range(100):\n",
    "        ran3.append(random.randint(1,6))\n",
    "        ran4.append(random.randint(1,6))\n",
    "print('2-nd player.First dice',ran3)\n",
    "print('Second dice',ran4)\n",
    "\n",
    "def myfunc(x,y):\n",
    "    return x + y\n",
    "for i in range(1):\n",
    "    f=map(myfunc,ran3,ran4)\n",
    "    g=list(f)\n",
    "    print(\"2nd player's sum\" , g)\n",
    "\n",
    "counterWins=0\n",
    "counterLoss=0\n",
    "counterDraw=0\n",
    "for i in range(100):\n",
    "    if e[i]>g[i]:\n",
    "        counterWins+=1\n",
    "    elif e[i]<g[i]:\n",
    "        counterLoss+=1\n",
    "    elif e[i]==g[i]:\n",
    "        counterDraw+=1\n",
    "print('First player won '+str(counterWins)+' times'+'\\n'+'Second player won '+str(counterLoss)+' times'+'\\n'+'Draw games '+str(counterDraw))\n",
    "    \n",
    "\n",
    "\n",
    "###_____________End code here_________________###"
   ]
  },
  {
   "cell_type": "code",
   "execution_count": 4,
   "metadata": {},
   "outputs": [
    {
     "ename": "NameError",
     "evalue": "name 'ex22' is not defined",
     "output_type": "error",
     "traceback": [
      "\u001b[0;31m---------------------------------------------------------------------------\u001b[0m",
      "\u001b[0;31mNameError\u001b[0m                                 Traceback (most recent call last)",
      "\u001b[0;32m<ipython-input-4-8e33a7072d9e>\u001b[0m in \u001b[0;36m<module>\u001b[0;34m\u001b[0m\n\u001b[1;32m      1\u001b[0m \u001b[0;31m# There is no need to run this chunk of code.\u001b[0m\u001b[0;34m\u001b[0m\u001b[0;34m\u001b[0m\u001b[0;34m\u001b[0m\u001b[0m\n\u001b[0;32m----> 2\u001b[0;31m \u001b[0mex22\u001b[0m\u001b[0;34m(\u001b[0m\u001b[0;34m)\u001b[0m\u001b[0;34m\u001b[0m\u001b[0;34m\u001b[0m\u001b[0m\n\u001b[0m",
      "\u001b[0;31mNameError\u001b[0m: name 'ex22' is not defined"
     ]
    }
   ],
   "source": [
    "# There is no need to run this chunk of code.\n",
    "ex22()"
   ]
  },
  {
   "cell_type": "markdown",
   "metadata": {},
   "source": [
    "***Problem 23:*** Write a program that randomly generates a nine-character password. First 3 characters must be from the set \"let\", second 3 characters from the set \"num\", last three ones from the set \"sym\". Set seed() to 42 and generate a password."
   ]
  },
  {
   "cell_type": "code",
   "execution_count": 161,
   "metadata": {},
   "outputs": [
    {
     "data": {
      "text/plain": [
       "'CaB154^$#'"
      ]
     },
     "execution_count": 161,
     "metadata": {},
     "output_type": "execute_result"
    }
   ],
   "source": [
    "\n",
    "let = {'A','B','C','a','b','c'}\n",
    "num = {1,2,3,4,5,6}\n",
    "sym = {'!','@','#','$','%','^'}\n",
    "\n",
    "let2=list(let)\n",
    "num2=list(num)\n",
    "sym2=list(sym)\n",
    "gen_password=[]\n",
    "\n",
    "from random import randint\n",
    "a=randint(0, 5)\n",
    "\n",
    "from random import randint\n",
    "b=randint(0, 5)\n",
    "\n",
    "from random import randint\n",
    "c=randint(0, 5)\n",
    "\n",
    "gen_password=let2[a]+let2[b]+let2[c]+str(num2[a])+str(num2[b])+str(num2[c])+sym2[a]+sym2[b]+sym2[c]\n",
    "gen_password\n",
    "\n",
    "\n",
    "\n",
    "\n",
    "\n",
    "\n",
    "\n",
    "\n"
   ]
  },
  {
   "cell_type": "code",
   "execution_count": 21,
   "metadata": {},
   "outputs": [],
   "source": [
    "###_____________Start code here_________________###\n",
    "\n",
    "\n",
    "###_____________End code here_________________###"
   ]
  },
  {
   "cell_type": "code",
   "execution_count": null,
   "metadata": {},
   "outputs": [],
   "source": [
    "# There is no need to run this chunk of code.\n",
    "ex23()"
   ]
  },
  {
   "cell_type": "markdown",
   "metadata": {},
   "source": [
    "\n",
    "***Problem 24:*** Write a program to find all the numbers divisible by 6 but not a multiple of 5 between 100 and 500 (inclusive). Print the numbers as a comma-separated string."
   ]
  },
  {
   "cell_type": "code",
   "execution_count": 22,
   "metadata": {},
   "outputs": [
    {
     "name": "stdout",
     "output_type": "stream",
     "text": [
      "[102, 108, 114, 126, 132, 138, 144, 156, 162, 168, 174, 186, 192, 198, 204, 216, 222, 228, 234, 246, 252, 258, 264, 276, 282, 288, 294, 306, 312, 318, 324, 336, 342, 348, 354, 366, 372, 378, 384, 396, 402, 408, 414, 426, 432, 438, 444, 456, 462, 468, 474, 486, 492, 498]\n"
     ]
    }
   ],
   "source": [
    "###_____________Start code here_________________###\n",
    "\n",
    "div_by_six=[i for i in range(100,501) if i%6==0 and i%5!=0]\n",
    "str_div=str(div_by_six)\n",
    "print(str_div)\n",
    "\n",
    "###_____________End code here_________________###"
   ]
  },
  {
   "cell_type": "code",
   "execution_count": null,
   "metadata": {},
   "outputs": [],
   "source": [
    "# There is no need to run this chunk of code.\n",
    "ex24()"
   ]
  },
  {
   "cell_type": "markdown",
   "metadata": {},
   "source": [
    "***Example 25:*** Write a program that converts \"firstname lastname\" to \"lastname, firstname\", using list comprehensions."
   ]
  },
  {
   "cell_type": "code",
   "execution_count": 60,
   "metadata": {},
   "outputs": [],
   "source": [
    "ls = ['Հրաչյա Վարդանյան', 'Անուշ Կարապետյան', 'Գոռ Անտոնյան', 'Տաթեւ Հարությունյան', 'Mary Sargsyan']"
   ]
  },
  {
   "cell_type": "code",
   "execution_count": 68,
   "metadata": {},
   "outputs": [
    {
     "ename": "SyntaxError",
     "evalue": "invalid syntax (<ipython-input-68-964586efc3e2>, line 3)",
     "output_type": "error",
     "traceback": [
      "\u001b[0;36m  File \u001b[0;32m\"<ipython-input-68-964586efc3e2>\"\u001b[0;36m, line \u001b[0;32m3\u001b[0m\n\u001b[0;31m    first_last=[ 'reversed' for a in ls  a.index('') w1=a[0:i] w2=a[i+1:0]]\u001b[0m\n\u001b[0m                                         ^\u001b[0m\n\u001b[0;31mSyntaxError\u001b[0m\u001b[0;31m:\u001b[0m invalid syntax\n"
     ]
    }
   ],
   "source": [
    "###_____________Start code here_________________###\n",
    "\n",
    "first_last=[ 'reversed' for a in ls  i=a.index('') w1=a[0:i] w2=a[i+1:0]]\n",
    "print(w2+w1)\n",
    "\n",
    "\n",
    "###_____________End code here_________________###"
   ]
  },
  {
   "cell_type": "code",
   "execution_count": null,
   "metadata": {},
   "outputs": [],
   "source": [
    "# There is no need to run this chunk of code.\n",
    "ex25(ls)"
   ]
  },
  {
   "cell_type": "markdown",
   "metadata": {},
   "source": [
    "***Problem 27:*** Write a function to devide an input list of ages between 0 and 70 into 4 groups.<br><br>\n",
    "Baby Boomers  - (50 to 70 years old]<br>\n",
    "Generation X - (34 to 50 years old]<br>\n",
    "Generation Y - (18 to 34 years old]<br>\n",
    "Generation Z - [0 to 18 years old]<br>\n",
    "\n",
    "Return a dictionary with the following structure:\n",
    "{'Group 1':[ages],'Group 2':[ages],'Group 3':[ages],'Group 4':[ages]}"
   ]
  },
  {
   "cell_type": "code",
   "execution_count": 1,
   "metadata": {},
   "outputs": [
    {
     "ename": "SyntaxError",
     "evalue": "unexpected EOF while parsing (<ipython-input-1-dd813fbfe23a>, line 6)",
     "output_type": "error",
     "traceback": [
      "\u001b[0;36m  File \u001b[0;32m\"<ipython-input-1-dd813fbfe23a>\"\u001b[0;36m, line \u001b[0;32m6\u001b[0m\n\u001b[0;31m    ###_____________End code here_________________###\u001b[0m\n\u001b[0m                                                     ^\u001b[0m\n\u001b[0;31mSyntaxError\u001b[0m\u001b[0;31m:\u001b[0m unexpected EOF while parsing\n"
     ]
    }
   ],
   "source": [
    "ls = [18,29,3,14,69,10,1,58,52,23,24,5,65]\n",
    "###_____________Start code here_________________###\n",
    "\n",
    "\n",
    "###_____________End code here_________________###"
   ]
  },
  {
   "cell_type": "code",
   "execution_count": null,
   "metadata": {},
   "outputs": [],
   "source": [
    "# There is no need to run this chunk of code.\n",
    "ex27(ls)"
   ]
  }
 ],
 "metadata": {
  "kernelspec": {
   "display_name": "Python 3",
   "language": "python",
   "name": "python3"
  },
  "language_info": {
   "codemirror_mode": {
    "name": "ipython",
    "version": 3
   },
   "file_extension": ".py",
   "mimetype": "text/x-python",
   "name": "python",
   "nbconvert_exporter": "python",
   "pygments_lexer": "ipython3",
   "version": "3.7.1"
  }
 },
 "nbformat": 4,
 "nbformat_minor": 2
}
